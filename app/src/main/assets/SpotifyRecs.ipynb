{
  "nbformat": 4,
  "nbformat_minor": 0,
  "metadata": {
    "colab": {
      "name": "SpotifyRecs.ipynb",
      "provenance": []
    },
    "kernelspec": {
      "name": "python3",
      "display_name": "Python 3"
    },
    "language_info": {
      "name": "python"
    }
  },
  "cells": [
    {
      "cell_type": "code",
      "execution_count": 1,
      "metadata": {
        "id": "Vz7L6ii-TfEz"
      },
      "outputs": [],
      "source": [
        "import torch.nn as nn\n",
        "import torch.nn.functional as F\n",
        "import torch\n",
        "import torchvision\n",
        "\n",
        "class Model(nn.Module):\n",
        "    def __init__(self):\n",
        "        super().__init__()\n",
        "\n",
        "    def forward(self, x):\n",
        "        return x + 2\n",
        "\n",
        "module = Model()\n",
        "script_module = torch.jit.script(module)\n",
        "optimized_traced_model = optimize_for_mobile(script_module)\n",
        "\n",
        "optimized_traced_model._save_for_lite_interpreter(\"model.ptl\")"
      ]
    },
    {
      "cell_type": "code",
      "source": [
        ""
      ],
      "metadata": {
        "id": "Wfs3TwDLU5DC"
      },
      "execution_count": null,
      "outputs": []
    }
  ]
}